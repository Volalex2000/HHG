{
 "cells": [
  {
   "cell_type": "code",
   "execution_count": 2,
   "metadata": {},
   "outputs": [
    {
     "ename": "KeyboardInterrupt",
     "evalue": "",
     "output_type": "error",
     "traceback": [
      "\u001b[1;31m---------------------------------------------------------------------------\u001b[0m",
      "\u001b[1;31mKeyboardInterrupt\u001b[0m                         Traceback (most recent call last)",
      "Cell \u001b[1;32mIn[2], line 4\u001b[0m\n\u001b[0;32m      2\u001b[0m \u001b[38;5;28;01mimport\u001b[39;00m \u001b[38;5;21;01mnumpy\u001b[39;00m \u001b[38;5;28;01mas\u001b[39;00m \u001b[38;5;21;01mnp\u001b[39;00m\n\u001b[0;32m      3\u001b[0m n \u001b[38;5;241m=\u001b[39m \u001b[38;5;241m80000\u001b[39m\n\u001b[1;32m----> 4\u001b[0m wavefunction, x, t, A \u001b[38;5;241m=\u001b[39m \u001b[43mpsi\u001b[49m\u001b[43m(\u001b[49m\u001b[43m[\u001b[49m\u001b[38;5;241;43m-\u001b[39;49m\u001b[38;5;241;43m200\u001b[39;49m\u001b[43m,\u001b[49m\u001b[43m \u001b[49m\u001b[38;5;241;43m4096\u001b[39;49m\u001b[43m,\u001b[49m\u001b[43m \u001b[49m\u001b[38;5;241;43m-\u001b[39;49m\u001b[38;5;241;43m200\u001b[39;49m\u001b[43m,\u001b[49m\u001b[43m \u001b[49m\u001b[43mn\u001b[49m\u001b[43m]\u001b[49m\u001b[43m)\u001b[49m\n\u001b[0;32m      6\u001b[0m \u001b[38;5;28;01mimport\u001b[39;00m \u001b[38;5;21;01mmatplotlib\u001b[39;00m\u001b[38;5;21;01m.\u001b[39;00m\u001b[38;5;21;01mpyplot\u001b[39;00m \u001b[38;5;28;01mas\u001b[39;00m \u001b[38;5;21;01mplt\u001b[39;00m\n\u001b[0;32m      7\u001b[0m \u001b[38;5;28;01mfor\u001b[39;00m i \u001b[38;5;129;01min\u001b[39;00m \u001b[38;5;28mrange\u001b[39m(\u001b[38;5;241m0\u001b[39m, n, \u001b[38;5;241m10\u001b[39m\u001b[38;5;241m*\u001b[39m\u001b[38;5;241m*\u001b[39m\u001b[38;5;241m5\u001b[39m):\n",
      "File \u001b[1;32mc:\\Users\\user\\Programming\\Git\\HHG\\Solve.py:264\u001b[0m, in \u001b[0;36mpsi\u001b[1;34m(set_x_t)\u001b[0m\n\u001b[0;32m    261\u001b[0m crank\u001b[38;5;241m.\u001b[39mset_parameters(f)\n\u001b[0;32m    262\u001b[0m psi_init \u001b[38;5;241m=\u001b[39m atom\u001b[38;5;241m.\u001b[39mground_state_wavefunction(X)\n\u001b[1;32m--> 264\u001b[0m \u001b[43mcrank\u001b[49m\u001b[38;5;241;43m.\u001b[39;49m\u001b[43msolve\u001b[49m\u001b[43m(\u001b[49m\u001b[43mpsi_init\u001b[49m\u001b[43m)\u001b[49m\n\u001b[0;32m    266\u001b[0m current_time \u001b[38;5;241m=\u001b[39m datetime\u001b[38;5;241m.\u001b[39mnow()\n\u001b[0;32m    267\u001b[0m np\u001b[38;5;241m.\u001b[39msave(\u001b[38;5;124mf\u001b[39m\u001b[38;5;124m'\u001b[39m\u001b[38;5;124m./results/A_\u001b[39m\u001b[38;5;132;01m{\u001b[39;00mcurrent_time\u001b[38;5;241m.\u001b[39mstrftime(\u001b[38;5;124m\"\u001b[39m\u001b[38;5;124m%\u001b[39m\u001b[38;5;124mY-\u001b[39m\u001b[38;5;124m%\u001b[39m\u001b[38;5;124mm-\u001b[39m\u001b[38;5;132;01m%d\u001b[39;00m\u001b[38;5;124m_\u001b[39m\u001b[38;5;124m%\u001b[39m\u001b[38;5;124mH-\u001b[39m\u001b[38;5;124m%\u001b[39m\u001b[38;5;124mM-\u001b[39m\u001b[38;5;124m%\u001b[39m\u001b[38;5;124mS\u001b[39m\u001b[38;5;124m\"\u001b[39m)\u001b[38;5;132;01m}\u001b[39;00m\u001b[38;5;124m.npy\u001b[39m\u001b[38;5;124m'\u001b[39m, crank\u001b[38;5;241m.\u001b[39mA)\n",
      "File \u001b[1;32mc:\\Users\\user\\Programming\\Git\\HHG\\Solve.py:138\u001b[0m, in \u001b[0;36mCrankNicolson.solve\u001b[1;34m(self, psi_init, sparse, boundary_conditions)\u001b[0m\n\u001b[0;32m    135\u001b[0m         fpsi_old \u001b[38;5;241m=\u001b[39m fpsi\n\u001b[0;32m    137\u001b[0m         \u001b[38;5;66;03m# Calculate A\u001b[39;00m\n\u001b[1;32m--> 138\u001b[0m         \u001b[38;5;28mself\u001b[39m\u001b[38;5;241m.\u001b[39mA \u001b[38;5;241m+\u001b[39m\u001b[38;5;241m=\u001b[39m \u001b[38;5;28;43mself\u001b[39;49m\u001b[38;5;241;43m.\u001b[39;49m\u001b[43mwavelet_trasform\u001b[49m\u001b[43m(\u001b[49m\u001b[43mt\u001b[49m\u001b[43m,\u001b[49m\u001b[43m \u001b[49m\u001b[43mpsi\u001b[49m\u001b[43m)\u001b[49m\n\u001b[0;32m    139\u001b[0m         \u001b[38;5;66;03m#CrankNicolson.wavelet_trasform(t, psi, self.f, self.t_pts, self.x_pts)\u001b[39;00m\n\u001b[0;32m    140\u001b[0m \n\u001b[0;32m    141\u001b[0m \u001b[38;5;28;01melse\u001b[39;00m:\n\u001b[0;32m    143\u001b[0m     A \u001b[38;5;241m=\u001b[39m \u001b[38;5;28mself\u001b[39m\u001b[38;5;241m.\u001b[39m_make_tridiag(sig, \u001b[38;5;28mself\u001b[39m\u001b[38;5;241m.\u001b[39mn_x, data_type)\n",
      "File \u001b[1;32mc:\\Users\\user\\Programming\\Git\\HHG\\Solve.py:47\u001b[0m, in \u001b[0;36mCrankNicolson.wavelet_trasform\u001b[1;34m(self, t, psi)\u001b[0m\n\u001b[0;32m     45\u001b[0m \u001b[38;5;28;01mdef\u001b[39;00m \u001b[38;5;21mwavelet_trasform\u001b[39m(\u001b[38;5;28mself\u001b[39m, t, psi):\n\u001b[0;32m     46\u001b[0m     X \u001b[38;5;241m=\u001b[39m \u001b[38;5;28mself\u001b[39m\u001b[38;5;241m.\u001b[39mscales[np\u001b[38;5;241m.\u001b[39mnewaxis,:] \u001b[38;5;241m*\u001b[39m (t \u001b[38;5;241m-\u001b[39m \u001b[38;5;28mself\u001b[39m\u001b[38;5;241m.\u001b[39mt_pts[:,np\u001b[38;5;241m.\u001b[39mnewaxis])\n\u001b[1;32m---> 47\u001b[0m     wavelet \u001b[38;5;241m=\u001b[39m np\u001b[38;5;241m.\u001b[39msqrt(\u001b[38;5;28mself\u001b[39m\u001b[38;5;241m.\u001b[39mscales[np\u001b[38;5;241m.\u001b[39mnewaxis,:] \u001b[38;5;241m/\u001b[39m \u001b[38;5;28mself\u001b[39m\u001b[38;5;241m.\u001b[39mtau) \u001b[38;5;241m*\u001b[39m \u001b[43mnp\u001b[49m\u001b[38;5;241;43m.\u001b[39;49m\u001b[43mexp\u001b[49m\u001b[43m(\u001b[49m\u001b[38;5;241;43m-\u001b[39;49m\u001b[43mX\u001b[49m\u001b[38;5;241;43m*\u001b[39;49m\u001b[38;5;241;43m*\u001b[39;49m\u001b[38;5;241;43m2\u001b[39;49m\u001b[43m \u001b[49m\u001b[38;5;241;43m/\u001b[39;49m\u001b[43m \u001b[49m\u001b[43m(\u001b[49m\u001b[38;5;241;43m2\u001b[39;49m\u001b[43m \u001b[49m\u001b[38;5;241;43m*\u001b[39;49m\u001b[43m \u001b[49m\u001b[38;5;28;43mself\u001b[39;49m\u001b[38;5;241;43m.\u001b[39;49m\u001b[43mtau\u001b[49m\u001b[38;5;241;43m*\u001b[39;49m\u001b[38;5;241;43m*\u001b[39;49m\u001b[38;5;241;43m2\u001b[39;49m\u001b[43m)\u001b[49m\u001b[43m \u001b[49m\u001b[38;5;241;43m+\u001b[39;49m\u001b[43m \u001b[49m\u001b[38;5;241;43m1\u001b[39;49m\u001b[43mj\u001b[49m\u001b[43m \u001b[49m\u001b[38;5;241;43m*\u001b[39;49m\u001b[43m \u001b[49m\u001b[43mX\u001b[49m\u001b[43m)\u001b[49m\n\u001b[0;32m     48\u001b[0m     delta_A \u001b[38;5;241m=\u001b[39m \u001b[38;5;28mself\u001b[39m\u001b[38;5;241m.\u001b[39mout_signal_calculation(t, psi)[:,np\u001b[38;5;241m.\u001b[39mnewaxis] \u001b[38;5;241m*\u001b[39m wavelet \u001b[38;5;241m*\u001b[39m \u001b[38;5;28mself\u001b[39m\u001b[38;5;241m.\u001b[39mdelta_t\n\u001b[0;32m     49\u001b[0m     \u001b[38;5;28;01mreturn\u001b[39;00m delta_A\n",
      "\u001b[1;31mKeyboardInterrupt\u001b[0m: "
     ]
    }
   ],
   "source": [
    "from Solve import psi\n",
    "import numpy as np\n",
    "n = 80000\n",
    "wavefunction, x, t, A = psi([-200, 4096, -200, n])\n",
    "\n",
    "import matplotlib.pyplot as plt\n",
    "for i in range(0, n, 10**5):\n",
    "    plt.plot(x, abs(wavefunction[i]))\n",
    "plt.xlim(-40, 40)\n",
    "#plt.ylim(0, 5)\n",
    "plt.show()"
   ]
  },
  {
   "cell_type": "code",
   "execution_count": 5,
   "metadata": {},
   "outputs": [],
   "source": [
    "from datetime import datetime\n",
    "a = np.array([1, 2, 3])\n",
    "current_time = datetime.now()\n",
    "np.save(f'./results/A_{current_time.strftime(\"%Y-%m-%d_%H-%M-%S\")}.npy', a)"
   ]
  },
  {
   "cell_type": "code",
   "execution_count": null,
   "metadata": {},
   "outputs": [],
   "source": [
    "    @jax.jit(static_argnames=['self'])\n",
    "    def out_signal_calculation(self, t, psi):\n",
    "        # Compute the gradient of f(1, t) with respect to x_pts\n",
    "        dV_dx = jax.grad(lambda x: self.f(1, x))(t)  # Using JAX's auto-diff\n",
    "\n",
    "        # Compute the integrand: -psi * dV_dx * conj(psi)\n",
    "        integrand = -psi * dV_dx * jnp.conj(psi)\n",
    "\n",
    "        # Trapezoidal integration over self.x_pts\n",
    "        dx = self.x_pts[1] - self.x_pts[0]  # Assuming uniform spacing\n",
    "        integral = jnp.sum(integrand, axis=-1) * dx\n",
    "\n",
    "        # Return the real part of the integral\n",
    "        return jnp.real(integral)\n",
    "\n",
    "    @jax.jit(static_argnames=['self'])\n",
    "    def wavelet_trasform(self, t, psi):\n",
    "        scales = jnp.asarray(self.scales)\n",
    "        t_pts = jnp.asarray(self.t_pts)\n",
    "        t = jnp.asarray(t)\n",
    "        tau = jnp.asarray(self.tau)\n",
    "        psi = jnp.asarray(psi)\n",
    "\n",
    "        # Define the wavelet function for one combination of t_pts and scales\n",
    "        def wavelet_element(t_pt, scale):\n",
    "            X = scale * (t - t_pt)\n",
    "            return jnp.sqrt(scale / tau) * jnp.exp(-X**2 / (2 * tau**2) + 1j * X) * self.out_signal_calculation(t, psi)\n",
    "\n",
    "        # Vectorize across t_pts and scales\n",
    "        wavelet_vectorized = jax.vmap(jax.vmap(wavelet_element, in_axes=(None, 0)), in_axes=(0, None))\n",
    "        return np.array(wavelet_vectorized(t_pts, scales))\n"
   ]
  },
  {
   "cell_type": "code",
   "execution_count": 3,
   "metadata": {},
   "outputs": [
    {
     "ename": "UnboundLocalError",
     "evalue": "cannot access local variable 'cutoff' where it is not associated with a value",
     "output_type": "error",
     "traceback": [
      "\u001b[1;31m---------------------------------------------------------------------------\u001b[0m",
      "\u001b[1;31mUnboundLocalError\u001b[0m                         Traceback (most recent call last)",
      "Cell \u001b[1;32mIn[3], line 7\u001b[0m\n\u001b[0;32m      4\u001b[0m \u001b[38;5;28;01mfrom\u001b[39;00m \u001b[38;5;21;01mField\u001b[39;00m \u001b[38;5;28;01mimport\u001b[39;00m Field\n\u001b[0;32m      6\u001b[0m params \u001b[38;5;241m=\u001b[39m pars_YanPengPhysRevA_78_033821()[\u001b[38;5;241m0\u001b[39m]\n\u001b[1;32m----> 7\u001b[0m \u001b[43mplot_HH_spectrum\u001b[49m\u001b[43m(\u001b[49m\u001b[38;5;241;43m0\u001b[39;49m\u001b[43m,\u001b[49m\u001b[43m \u001b[49m\u001b[43mA\u001b[49m\u001b[43m,\u001b[49m\u001b[43m \u001b[49m\u001b[43mparams\u001b[49m\u001b[43m)\u001b[49m\n\u001b[0;32m      8\u001b[0m imshow_time_frequency_characteristics(A)\n",
      "File \u001b[1;32mc:\\Users\\user\\Programming\\Git\\HHG\\Res_visualisation.py:28\u001b[0m, in \u001b[0;36mplot_HH_spectrum\u001b[1;34m(i, A, parameters)\u001b[0m\n\u001b[0;32m     26\u001b[0m plt\u001b[38;5;241m.\u001b[39mfigure()\n\u001b[0;32m     27\u001b[0m plt\u001b[38;5;241m.\u001b[39mplot(scales \u001b[38;5;241m/\u001b[39m FW, np\u001b[38;5;241m.\u001b[39mlog2(np\u001b[38;5;241m.\u001b[39mabs(A[i,:])))\n\u001b[1;32m---> 28\u001b[0m cutoff \u001b[38;5;241m=\u001b[39m \u001b[43mcutoff\u001b[49m(parameters[\u001b[38;5;241m1\u001b[39m], parameters[\u001b[38;5;241m2\u001b[39m])\n\u001b[0;32m     29\u001b[0m plt\u001b[38;5;241m.\u001b[39maxvline(x \u001b[38;5;241m=\u001b[39m cutoff \u001b[38;5;241m/\u001b[39m FW, color\u001b[38;5;241m=\u001b[39m\u001b[38;5;124m'\u001b[39m\u001b[38;5;124mr\u001b[39m\u001b[38;5;124m'\u001b[39m, linestyle\u001b[38;5;241m=\u001b[39m\u001b[38;5;124m'\u001b[39m\u001b[38;5;124m--\u001b[39m\u001b[38;5;124m'\u001b[39m, label\u001b[38;5;241m=\u001b[39m\u001b[38;5;124mf\u001b[39m\u001b[38;5;124m'\u001b[39m\u001b[38;5;124mCutoff: \u001b[39m\u001b[38;5;132;01m{\u001b[39;00mcutoff\u001b[38;5;132;01m:\u001b[39;00m\u001b[38;5;124m.2f\u001b[39m\u001b[38;5;132;01m}\u001b[39;00m\u001b[38;5;124m'\u001b[39m)\n\u001b[0;32m     30\u001b[0m plt\u001b[38;5;241m.\u001b[39mlegend()\n",
      "\u001b[1;31mUnboundLocalError\u001b[0m: cannot access local variable 'cutoff' where it is not associated with a value"
     ]
    },
    {
     "data": {
      "image/png": "[encoded data removed]",
      "text/plain": [
       "<Figure size 640x480 with 1 Axes>"
      ]
     },
     "metadata": {},
     "output_type": "display_data"
    }
   ],
   "source": [
    "from Res_visualisation import *\n",
    "from Parameters import pars_YanPengPhysRevA_78_033821\n",
    "from Hydrogen import Hydrogen\n",
    "from Field import Field\n",
    "\n",
    "params = pars_YanPengPhysRevA_78_033821()[0]\n",
    "plot_HH_spectrum(0, A, params)\n",
    "imshow_time_frequency_characteristics(A)"
   ]
  }
 ],
 "metadata": {
  "kernelspec": {
   "display_name": "Python 3",
   "language": "python",
   "name": "python3"
  },
  "language_info": {
   "codemirror_mode": {
    "name": "ipython",
    "version": 3
   },
   "file_extension": ".py",
   "mimetype": "text/x-python",
   "name": "python",
   "nbconvert_exporter": "python",
   "pygments_lexer": "ipython3",
   "version": "3.11.5"
  }
 },
 "nbformat": 4,
 "nbformat_minor": 2
}
