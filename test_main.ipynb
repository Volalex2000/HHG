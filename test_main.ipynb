{
 "cells": [
  {
   "cell_type": "code",
   "execution_count": null,
   "metadata": {},
   "outputs": [
    {
     "ename": "MemoryError",
     "evalue": "Unable to allocate 61.0 GiB for an array with shape (1000001, 4096) and data type complex128",
     "output_type": "error",
     "traceback": [
      "\u001b[1;31m---------------------------------------------------------------------------\u001b[0m",
      "\u001b[1;31mMemoryError\u001b[0m                               Traceback (most recent call last)",
      "Cell \u001b[1;32mIn[6], line 4\u001b[0m\n\u001b[0;32m      2\u001b[0m \u001b[38;5;28;01mimport\u001b[39;00m \u001b[38;5;21;01mnumpy\u001b[39;00m \u001b[38;5;28;01mas\u001b[39;00m \u001b[38;5;21;01mnp\u001b[39;00m\n\u001b[0;32m      3\u001b[0m n \u001b[38;5;241m=\u001b[39m \u001b[38;5;241m10\u001b[39m\u001b[38;5;241m*\u001b[39m\u001b[38;5;241m*\u001b[39m\u001b[38;5;241m6\u001b[39m\u001b[38;5;241m+\u001b[39m\u001b[38;5;241m1\u001b[39m\n\u001b[1;32m----> 4\u001b[0m wavefunction, x, t \u001b[38;5;241m=\u001b[39m \u001b[43mpsi\u001b[49m\u001b[43m(\u001b[49m\u001b[43m[\u001b[49m\u001b[38;5;241;43m-\u001b[39;49m\u001b[38;5;241;43m200\u001b[39;49m\u001b[43m,\u001b[49m\u001b[43m \u001b[49m\u001b[38;5;241;43m4096\u001b[39;49m\u001b[43m,\u001b[49m\u001b[43m \u001b[49m\u001b[38;5;241;43m-\u001b[39;49m\u001b[38;5;241;43m300\u001b[39;49m\u001b[43m,\u001b[49m\u001b[43m \u001b[49m\u001b[43mn\u001b[49m\u001b[43m]\u001b[49m\u001b[43m)\u001b[49m\n\u001b[0;32m      6\u001b[0m \u001b[38;5;28;01mimport\u001b[39;00m \u001b[38;5;21;01mmatplotlib\u001b[39;00m\u001b[38;5;21;01m.\u001b[39;00m\u001b[38;5;21;01mpyplot\u001b[39;00m \u001b[38;5;28;01mas\u001b[39;00m \u001b[38;5;21;01mplt\u001b[39;00m\n\u001b[0;32m      7\u001b[0m \u001b[38;5;28;01mfor\u001b[39;00m i \u001b[38;5;129;01min\u001b[39;00m \u001b[38;5;28mrange\u001b[39m(\u001b[38;5;241m0\u001b[39m, n, \u001b[38;5;241m10\u001b[39m\u001b[38;5;241m*\u001b[39m\u001b[38;5;241m*\u001b[39m\u001b[38;5;241m5\u001b[39m):\n",
      "File \u001b[1;32mc:\\Users\\user\\Programming\\Git\\HHG\\Solve.py:193\u001b[0m, in \u001b[0;36mpsi\u001b[1;34m(set_x_t)\u001b[0m\n\u001b[0;32m    190\u001b[0m crank\u001b[38;5;241m.\u001b[39mset_parameters(f)\n\u001b[0;32m    191\u001b[0m psi_init \u001b[38;5;241m=\u001b[39m atom\u001b[38;5;241m.\u001b[39mground_state_wavefunction(X)\n\u001b[1;32m--> 193\u001b[0m \u001b[43mcrank\u001b[49m\u001b[38;5;241;43m.\u001b[39;49m\u001b[43msolve\u001b[49m\u001b[43m(\u001b[49m\u001b[43mpsi_init\u001b[49m\u001b[43m)\u001b[49m\n\u001b[0;32m    195\u001b[0m \u001b[38;5;28;01mreturn\u001b[39;00m crank\u001b[38;5;241m.\u001b[39mpsi_matrix, crank\u001b[38;5;241m.\u001b[39mx_pts, crank\u001b[38;5;241m.\u001b[39mt_pts\n",
      "File \u001b[1;32mc:\\Users\\user\\Programming\\Git\\HHG\\Solve.py:44\u001b[0m, in \u001b[0;36mCrankNicolson.solve\u001b[1;34m(self, psi_init, sparse, boundary_conditions)\u001b[0m\n\u001b[0;32m     41\u001b[0m \u001b[38;5;66;03m# Figure the data type\u001b[39;00m\n\u001b[0;32m     42\u001b[0m data_type \u001b[38;5;241m=\u001b[39m \u001b[38;5;28mtype\u001b[39m(sig\u001b[38;5;241m*\u001b[39mpsi_init[\u001b[38;5;241m0\u001b[39m])\n\u001b[1;32m---> 44\u001b[0m \u001b[38;5;28mself\u001b[39m\u001b[38;5;241m.\u001b[39mpsi_matrix \u001b[38;5;241m=\u001b[39m np\u001b[38;5;241m.\u001b[39mzeros([\u001b[38;5;28mself\u001b[39m\u001b[38;5;241m.\u001b[39mn_t, \u001b[38;5;28mself\u001b[39m\u001b[38;5;241m.\u001b[39mn_x], dtype\u001b[38;5;241m=\u001b[39mdata_type)\n\u001b[0;32m     46\u001b[0m \u001b[38;5;66;03m# Using sparse matrices and specialized tridiagonal solver speeds up the calculations\u001b[39;00m\n\u001b[0;32m     47\u001b[0m \u001b[38;5;28;01mif\u001b[39;00m sparse:\n",
      "\u001b[1;31mMemoryError\u001b[0m: Unable to allocate 61.0 GiB for an array with shape (1000001, 4096) and data type complex128"
     ]
    }
   ],
   "source": [
    "from Solve import psi\n",
    "import numpy as np\n",
    "n = 12000\n",
    "wavefunction, x, t = psi([-200, 4096, -300, n])\n",
    "\n",
    "import matplotlib.pyplot as plt\n",
    "for i in range(0, n, 10**5):\n",
    "    plt.plot(x, abs(wavefunction[i]))\n",
    "plt.xlim(-40, 40)\n",
    "#plt.ylim(0, 5)\n",
    "plt.show()"
   ]
  },
  {
   "cell_type": "code",
   "execution_count": null,
   "metadata": {},
   "outputs": [
    {
     "name": "stdout",
     "output_type": "stream",
     "text": [
      "0\n"
     ]
    }
   ],
   "source": [
    "from Res_visualisation import *\n",
    "from Parameters import pars_YanPengPhysRevA_78_033821\n",
    "from Hydrogen import Hydrogen\n",
    "from Field import Field\n",
    "\n",
    "params = pars_YanPengPhysRevA_78_033821()[0]\n",
    "H = Hydrogen()\n",
    "F = Field.Pulse(params)\n",
    "field = F(t, 'Real')\n",
    "pot = H.potential(x)\n",
    "plot_HH_spectrum(x, t, wavefunction, params, pot, field, Z=1)\n",
    "imshow_time_frequency_characteristics(x, t, wavefunction, params, pot, field)"
   ]
  }
 ],
 "metadata": {
  "kernelspec": {
   "display_name": "Python 3",
   "language": "python",
   "name": "python3"
  },
  "language_info": {
   "codemirror_mode": {
    "name": "ipython",
    "version": 3
   },
   "file_extension": ".py",
   "mimetype": "text/x-python",
   "name": "python",
   "nbconvert_exporter": "python",
   "pygments_lexer": "ipython3",
   "version": "3.11.5"
  }
 },
 "nbformat": 4,
 "nbformat_minor": 2
}
