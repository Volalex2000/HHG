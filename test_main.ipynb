{
 "cells": [
  {
   "cell_type": "code",
   "execution_count": null,
   "metadata": {},
   "outputs": [],
   "source": [
    "from Solve import psi\n",
    "import numpy as np\n",
    "n = 5000\n",
    "wavefunction, x, t, A = psi([-200, 4096, -50, n])\n",
    "\n",
    "import matplotlib.pyplot as plt\n",
    "for i in range(0, n, 10**5):\n",
    "    plt.plot(x, abs(wavefunction[i]))\n",
    "plt.xlim(-40, 40)\n",
    "#plt.ylim(0, 5)\n",
    "plt.show()"
   ]
  },
  {
   "cell_type": "code",
   "execution_count": null,
   "metadata": {},
   "outputs": [],
   "source": [
    "    @jax.jit(static_argnames=['self'])\n",
    "    def out_signal_calculation(self, t, psi):\n",
    "        # Compute the gradient of f(1, t) with respect to x_pts\n",
    "        dV_dx = jax.grad(lambda x: self.f(1, x))(t)  # Using JAX's auto-diff\n",
    "\n",
    "        # Compute the integrand: -psi * dV_dx * conj(psi)\n",
    "        integrand = -psi * dV_dx * jnp.conj(psi)\n",
    "\n",
    "        # Trapezoidal integration over self.x_pts\n",
    "        dx = self.x_pts[1] - self.x_pts[0]  # Assuming uniform spacing\n",
    "        integral = jnp.sum(integrand, axis=-1) * dx\n",
    "\n",
    "        # Return the real part of the integral\n",
    "        return jnp.real(integral)\n",
    "\n",
    "    @jax.jit(static_argnames=['self'])\n",
    "    def wavelet_trasform(self, t, psi):\n",
    "        scales = jnp.asarray(self.scales)\n",
    "        t_pts = jnp.asarray(self.t_pts)\n",
    "        t = jnp.asarray(t)\n",
    "        tau = jnp.asarray(self.tau)\n",
    "        psi = jnp.asarray(psi)\n",
    "\n",
    "        # Define the wavelet function for one combination of t_pts and scales\n",
    "        def wavelet_element(t_pt, scale):\n",
    "            X = scale * (t - t_pt)\n",
    "            return jnp.sqrt(scale / tau) * jnp.exp(-X**2 / (2 * tau**2) + 1j * X) * self.out_signal_calculation(t, psi)\n",
    "\n",
    "        # Vectorize across t_pts and scales\n",
    "        wavelet_vectorized = jax.vmap(jax.vmap(wavelet_element, in_axes=(None, 0)), in_axes=(0, None))\n",
    "        return np.array(wavelet_vectorized(t_pts, scales))\n"
   ]
  },
  {
   "cell_type": "code",
   "execution_count": null,
   "metadata": {},
   "outputs": [
    {
     "name": "stderr",
     "output_type": "stream",
     "text": [
      "c:\\Users\\user\\Programming\\Git\\HHG\\Res_visualisation.py:8: RuntimeWarning: overflow encountered in multiply\n",
      "  a = np.trapz(-wavefunction * dV_dx[np.newaxis,:] * np.conj(wavefunction), x[np.newaxis,:], axis=1)\n",
      "c:\\Users\\user\\Programming\\Git\\HHG\\Res_visualisation.py:8: RuntimeWarning: invalid value encountered in multiply\n",
      "  a = np.trapz(-wavefunction * dV_dx[np.newaxis,:] * np.conj(wavefunction), x[np.newaxis,:], axis=1)\n",
      "c:\\Users\\user\\AppData\\Local\\Programs\\Python\\Python311\\Lib\\site-packages\\numpy\\lib\\function_base.py:4979: RuntimeWarning: overflow encountered in add\n",
      "  ret = (d * (y[tuple(slice1)] + y[tuple(slice2)]) / 2.0).sum(axis)\n",
      "c:\\Users\\user\\AppData\\Local\\Programs\\Python\\Python311\\Lib\\site-packages\\numpy\\lib\\function_base.py:4979: RuntimeWarning: invalid value encountered in add\n",
      "  ret = (d * (y[tuple(slice1)] + y[tuple(slice2)]) / 2.0).sum(axis)\n",
      "c:\\Users\\user\\AppData\\Local\\Programs\\Python\\Python311\\Lib\\site-packages\\numpy\\lib\\function_base.py:4979: RuntimeWarning: invalid value encountered in multiply\n",
      "  ret = (d * (y[tuple(slice1)] + y[tuple(slice2)]) / 2.0).sum(axis)\n",
      "c:\\Users\\user\\AppData\\Local\\Programs\\Python\\Python311\\Lib\\site-packages\\numpy\\lib\\function_base.py:4979: RuntimeWarning: invalid value encountered in divide\n",
      "  ret = (d * (y[tuple(slice1)] + y[tuple(slice2)]) / 2.0).sum(axis)\n"
     ]
    },
    {
     "name": "stdout",
     "output_type": "stream",
     "text": [
      "0\n"
     ]
    }
   ],
   "source": [
    "from Res_visualisation import *\n",
    "from Parameters import pars_YanPengPhysRevA_78_033821\n",
    "from Hydrogen import Hydrogen\n",
    "from Field import Field\n",
    "\n",
    "params = pars_YanPengPhysRevA_78_033821()[0]\n",
    "plot_HH_spectrum(0, A, params)\n",
    "imshow_time_frequency_characteristics(A)"
   ]
  }
 ],
 "metadata": {
  "kernelspec": {
   "display_name": "Python 3",
   "language": "python",
   "name": "python3"
  },
  "language_info": {
   "codemirror_mode": {
    "name": "ipython",
    "version": 3
   },
   "file_extension": ".py",
   "mimetype": "text/x-python",
   "name": "python",
   "nbconvert_exporter": "python",
   "pygments_lexer": "ipython3",
   "version": "3.11.5"
  }
 },
 "nbformat": 4,
 "nbformat_minor": 2
}
