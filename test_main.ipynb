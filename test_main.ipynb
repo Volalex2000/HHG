{
 "cells": [
  {
   "cell_type": "code",
   "execution_count": null,
   "metadata": {},
   "outputs": [],
   "source": [
    "from Solve import psi\n",
    "import numpy as np\n",
    "n = 9999\n",
    "wavefunction, x, t = psi([-200, 4096, -10, n])\n",
    "print(wavefunction[50,50])\n",
    "\n",
    "import matplotlib.pyplot as plt\n",
    "plt.plot(x, abs(wavefunction[n//2]))\n",
    "plt.xlim(-40, 40)\n",
    "#plt.ylim(0, 5)\n",
    "plt.show()"
   ]
  },
  {
   "cell_type": "code",
   "execution_count": 4,
   "metadata": {},
   "outputs": [
    {
     "name": "stderr",
     "output_type": "stream",
     "text": [
      "c:\\Users\\user\\Programming\\Git\\HHG\\Res_visualisation.py:8: RuntimeWarning: overflow encountered in multiply\n",
      "  a = np.trapz(-wavefunction * dV_dx[np.newaxis,:] * np.conj(wavefunction), x[np.newaxis,:], axis=1)\n",
      "c:\\Users\\user\\Programming\\Git\\HHG\\Res_visualisation.py:8: RuntimeWarning: invalid value encountered in multiply\n",
      "  a = np.trapz(-wavefunction * dV_dx[np.newaxis,:] * np.conj(wavefunction), x[np.newaxis,:], axis=1)\n",
      "c:\\Users\\user\\AppData\\Local\\Programs\\Python\\Python311\\Lib\\site-packages\\numpy\\lib\\function_base.py:4979: RuntimeWarning: overflow encountered in add\n",
      "  ret = (d * (y[tuple(slice1)] + y[tuple(slice2)]) / 2.0).sum(axis)\n",
      "c:\\Users\\user\\AppData\\Local\\Programs\\Python\\Python311\\Lib\\site-packages\\numpy\\lib\\function_base.py:4979: RuntimeWarning: invalid value encountered in add\n",
      "  ret = (d * (y[tuple(slice1)] + y[tuple(slice2)]) / 2.0).sum(axis)\n",
      "c:\\Users\\user\\AppData\\Local\\Programs\\Python\\Python311\\Lib\\site-packages\\numpy\\lib\\function_base.py:4979: RuntimeWarning: invalid value encountered in multiply\n",
      "  ret = (d * (y[tuple(slice1)] + y[tuple(slice2)]) / 2.0).sum(axis)\n",
      "c:\\Users\\user\\AppData\\Local\\Programs\\Python\\Python311\\Lib\\site-packages\\numpy\\lib\\function_base.py:4979: RuntimeWarning: invalid value encountered in divide\n",
      "  ret = (d * (y[tuple(slice1)] + y[tuple(slice2)]) / 2.0).sum(axis)\n"
     ]
    },
    {
     "ename": "MemoryError",
     "evalue": "Unable to allocate 106. GiB for an array with shape (12001, 12001, 99) and data type float64",
     "output_type": "error",
     "traceback": [
      "\u001b[1;31m---------------------------------------------------------------------------\u001b[0m",
      "\u001b[1;31mMemoryError\u001b[0m                               Traceback (most recent call last)",
      "Cell \u001b[1;32mIn[4], line 11\u001b[0m\n\u001b[0;32m      9\u001b[0m field \u001b[38;5;241m=\u001b[39m F(t, \u001b[38;5;124m'\u001b[39m\u001b[38;5;124mReal\u001b[39m\u001b[38;5;124m'\u001b[39m)\n\u001b[0;32m     10\u001b[0m pot \u001b[38;5;241m=\u001b[39m H\u001b[38;5;241m.\u001b[39mpotential(x)\n\u001b[1;32m---> 11\u001b[0m \u001b[43mplot_HH_spectrum\u001b[49m\u001b[43m(\u001b[49m\u001b[43mx\u001b[49m\u001b[43m,\u001b[49m\u001b[43m \u001b[49m\u001b[43mt\u001b[49m\u001b[43m,\u001b[49m\u001b[43m \u001b[49m\u001b[43mwavefunction\u001b[49m\u001b[43m,\u001b[49m\u001b[43m \u001b[49m\u001b[43mparams\u001b[49m\u001b[43m,\u001b[49m\u001b[43m \u001b[49m\u001b[43mpot\u001b[49m\u001b[43m,\u001b[49m\u001b[43m \u001b[49m\u001b[43mfield\u001b[49m\u001b[43m,\u001b[49m\u001b[43m \u001b[49m\u001b[43mZ\u001b[49m\u001b[38;5;241;43m=\u001b[39;49m\u001b[38;5;241;43m1\u001b[39;49m\u001b[43m)\u001b[49m\n\u001b[0;32m     12\u001b[0m imshow_time_frequency_characteristics(x, t, wavefunction, params, pot, field)\n",
      "File \u001b[1;32mc:\\Users\\user\\Programming\\Git\\HHG\\Res_visualisation.py:52\u001b[0m, in \u001b[0;36mplot_HH_spectrum\u001b[1;34m(x, t, wavefunction, parameters, potential, field, Z)\u001b[0m\n\u001b[0;32m     50\u001b[0m a \u001b[38;5;241m=\u001b[39m __out_signal_calculation(x, wavefunction, potential, field)\n\u001b[0;32m     51\u001b[0m FW_frequency \u001b[38;5;241m=\u001b[39m np\u001b[38;5;241m.\u001b[39mmin(parameters[\u001b[38;5;241m2\u001b[39m])\n\u001b[1;32m---> 52\u001b[0m A, frequencies \u001b[38;5;241m=\u001b[39m \u001b[43m__wavelet_transform\u001b[49m\u001b[43m(\u001b[49m\u001b[43ma\u001b[49m\u001b[43m,\u001b[49m\u001b[43m \u001b[49m\u001b[43mt\u001b[49m\u001b[43m,\u001b[49m\u001b[43m \u001b[49m\u001b[43mFW_frequency\u001b[49m\u001b[43m,\u001b[49m\u001b[43m \u001b[49m\u001b[43mfast\u001b[49m\u001b[38;5;241;43m=\u001b[39;49m\u001b[38;5;28;43;01mTrue\u001b[39;49;00m\u001b[43m)\u001b[49m\n\u001b[0;32m     53\u001b[0m \u001b[38;5;28mprint\u001b[39m(A)\n\u001b[0;32m     54\u001b[0m plt\u001b[38;5;241m.\u001b[39mfigure()\n",
      "File \u001b[1;32mc:\\Users\\user\\Programming\\Git\\HHG\\Res_visualisation.py:16\u001b[0m, in \u001b[0;36m__wavelet_transform\u001b[1;34m(a, t, FW_frequency, t0, tau, max_harm_order, fast)\u001b[0m\n\u001b[0;32m     13\u001b[0m scales \u001b[38;5;241m=\u001b[39m FW_frequency \u001b[38;5;241m*\u001b[39m np\u001b[38;5;241m.\u001b[39marange(\u001b[38;5;241m1\u001b[39m, max_harm_order)\n\u001b[0;32m     15\u001b[0m \u001b[38;5;28;01mif\u001b[39;00m fast:\n\u001b[1;32m---> 16\u001b[0m     X \u001b[38;5;241m=\u001b[39m \u001b[43mscales\u001b[49m\u001b[43m[\u001b[49m\u001b[43mnp\u001b[49m\u001b[38;5;241;43m.\u001b[39;49m\u001b[43mnewaxis\u001b[49m\u001b[43m,\u001b[49m\u001b[43mnp\u001b[49m\u001b[38;5;241;43m.\u001b[39;49m\u001b[43mnewaxis\u001b[49m\u001b[43m,\u001b[49m\u001b[43m:\u001b[49m\u001b[43m]\u001b[49m\u001b[43m \u001b[49m\u001b[38;5;241;43m*\u001b[39;49m\u001b[43m \u001b[49m\u001b[43m(\u001b[49m\u001b[43mt\u001b[49m\u001b[43m[\u001b[49m\u001b[43mnp\u001b[49m\u001b[38;5;241;43m.\u001b[39;49m\u001b[43mnewaxis\u001b[49m\u001b[43m,\u001b[49m\u001b[43m:\u001b[49m\u001b[43m,\u001b[49m\u001b[43mnp\u001b[49m\u001b[38;5;241;43m.\u001b[39;49m\u001b[43mnewaxis\u001b[49m\u001b[43m]\u001b[49m\u001b[43m \u001b[49m\u001b[38;5;241;43m-\u001b[39;49m\u001b[43m \u001b[49m\u001b[43mt\u001b[49m\u001b[43m[\u001b[49m\u001b[43m:\u001b[49m\u001b[43m,\u001b[49m\u001b[43mnp\u001b[49m\u001b[38;5;241;43m.\u001b[39;49m\u001b[43mnewaxis\u001b[49m\u001b[43m,\u001b[49m\u001b[43mnp\u001b[49m\u001b[38;5;241;43m.\u001b[39;49m\u001b[43mnewaxis\u001b[49m\u001b[43m]\u001b[49m\u001b[43m)\u001b[49m\n\u001b[0;32m     17\u001b[0m     wavelet \u001b[38;5;241m=\u001b[39m np\u001b[38;5;241m.\u001b[39msqrt(scales[np\u001b[38;5;241m.\u001b[39mnewaxis,np\u001b[38;5;241m.\u001b[39mnewaxis,:] \u001b[38;5;241m/\u001b[39m tau) \u001b[38;5;241m*\u001b[39m np\u001b[38;5;241m.\u001b[39mexp(\u001b[38;5;241m-\u001b[39mX\u001b[38;5;241m*\u001b[39m\u001b[38;5;241m*\u001b[39m\u001b[38;5;241m2\u001b[39m \u001b[38;5;241m/\u001b[39m (\u001b[38;5;241m2\u001b[39m \u001b[38;5;241m*\u001b[39m tau\u001b[38;5;241m*\u001b[39m\u001b[38;5;241m*\u001b[39m\u001b[38;5;241m2\u001b[39m) \u001b[38;5;241m+\u001b[39m \u001b[38;5;241m1\u001b[39mj \u001b[38;5;241m*\u001b[39m X)\n\u001b[0;32m     18\u001b[0m     Int \u001b[38;5;241m=\u001b[39m a[:,np\u001b[38;5;241m.\u001b[39mnewaxis,np\u001b[38;5;241m.\u001b[39mnewaxis] \u001b[38;5;241m*\u001b[39m wavelet\n",
      "\u001b[1;31mMemoryError\u001b[0m: Unable to allocate 106. GiB for an array with shape (12001, 12001, 99) and data type float64"
     ]
    }
   ],
   "source": [
    "from Res_visualisation import *\n",
    "from Parameters import pars_YanPengPhysRevA_78_033821\n",
    "from Hydrogen import Hydrogen\n",
    "from Field import Field\n",
    "\n",
    "params = pars_YanPengPhysRevA_78_033821()[0]\n",
    "H = Hydrogen()\n",
    "F = Field.Pulse(params)\n",
    "field = F(t, 'Real')\n",
    "pot = H.potential(x)\n",
    "plot_HH_spectrum(x, t, wavefunction, params, pot, field, Z=1)\n",
    "imshow_time_frequency_characteristics(x, t, wavefunction, params, pot, field)"
   ]
  }
 ],
 "metadata": {
  "kernelspec": {
   "display_name": "Python 3",
   "language": "python",
   "name": "python3"
  },
  "language_info": {
   "codemirror_mode": {
    "name": "ipython",
    "version": 3
   },
   "file_extension": ".py",
   "mimetype": "text/x-python",
   "name": "python",
   "nbconvert_exporter": "python",
   "pygments_lexer": "ipython3",
   "version": "3.11.5"
  }
 },
 "nbformat": 4,
 "nbformat_minor": 2
}
