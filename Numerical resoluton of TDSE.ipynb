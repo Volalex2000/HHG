{
 "cells": [
  {
   "cell_type": "code",
   "execution_count": 26,
   "metadata": {},
   "outputs": [],
   "source": [
    "#Import des biblothèques utiles\n",
    "\n",
    "%matplotlib inline\n",
    "import numpy as np\n",
    "import matplotlib.pyplot as plt\n",
    "import scipy.sparse\n",
    "import scipy.linalg as la\n",
    "from time import process_time\n",
    "from Parameters import *\n",
    "from Hydrogen import *\n",
    "from Field import *"
   ]
  },
  {
   "cell_type": "markdown",
   "metadata": {},
   "source": [
    "## Présentation de la méthode des éléments finis pour TDSE\n",
    "\n",
    "\n",
    "We will apply the Crank-Nicolson (CN) scheme to integrate numerically Eq. 1 in one space dimension with Neumann boundary conditions.\n",
    "\n",
    "$$i \\frac{\\partial \\psi}{\\partial t} = -\\frac{1}{2} \\frac{\\partial^2 \\psi}{\\partial x^2} + V(x) \\psi - x E(t) \\psi, \\qquad (Eq. 1)$$\n",
    "\n",
    "\n",
    "\n",
    "# Finite Difference Methods\n",
    "\n",
    "The above Schrödinger equation describes the time evolution of the variable $\\psi(x,t)$ in one space dimension.\n",
    "\n",
    "To approximate $\\psi(x,t)$ numerically, we discretize the coordinate system with a two-dimensional regular grid.\n",
    "\n",
    "Let us discretize both time and space:\n",
    "$$t_n = n \\Delta t, \\quad n = 0, \\dots, N - 1,$$\n",
    "$$x_j = j \\Delta x, \\quad j = 0, \\dots, J - 1,$$\n",
    "\n",
    "where $N$ and $J$ are the number of discrete time and space points, respectively, and $Δt$ and $Δx$ are the time and space steps:\n",
    "$$Δt = T / N, \\quad Δx = L / J,$$\n",
    "\n",
    "where $T$ is the final integration time.\n",
    "\n",
    "Our goal is to approximate the unknown analytic solution $\\psi(x,t)$ at discrete grid points, using the notation:\n",
    "$$\\Psi^n_j = \\psi(jΔx, nΔt) \\approx \\psi(jΔx, nΔt).$$\n",
    "\n",
    "# The Crank-Nicolson Stencil\n",
    "\n",
    "To approximate the time derivative at grid point $(j,n)$, we use:\n",
    "$$ \\left. \\frac{\\partial \\psi}{\\partial t} \\right|_{x = jΔx, t = nΔt} \\approx \\frac{\\Psi^{n+1}_j - \\Psi^n_j}{Δt}.$$\n",
    "\n",
    "The spatial part of the Crank-Nicolson stencil for the Schrödinger equation ($i \\psi_t = -\\frac{1}{2} \\psi_{xx} + V(x) \\psi - x E(t) \\psi$) approximates the Laplacian and potential operators as follows:\n",
    "$$-\\frac{1}{2} \\left. \\frac{\\partial^2 \\psi}{\\partial x^2} \\right|_{x = jΔx, t = nΔt} \\approx \\frac{-1}{4Δx^2} \\left( \\Psi^n_{j+1} - 2 \\Psi^n_j + \\Psi^n_{j-1} + \\Psi^{n+1}_{j+1} - 2 \\Psi^{n+1}_j + \\Psi^{n+1}_{j-1} \\right),$$\n",
    "\n",
    "\n",
    "Applying this stencil to the grid point $(j,n)$ gives:\n",
    "$$i\\frac{\\Psi^{n+1}_j - \\Psi^n_j}{Δt} = \\frac{-1}{4Δx^2} (\\Psi^n_{j+1} - 2 \\Psi^n_j + \\Psi^n_{j-1} + \\Psi^{n+1}_{j+1} - 2 \\Psi^{n+1}_j + \\Psi^{n+1}_{j-1}) + \\frac{V(x_j)}{2} (\\Psi^n_j + \\Psi^{n+1}_j) - \\frac{x_j E(nΔt)}{2} (\\Psi^n_j + \\Psi^{n+1}_j).$$\n",
    "\n"
   ]
  },
  {
   "cell_type": "markdown",
   "metadata": {},
   "source": []
  },
  {
   "cell_type": "code",
   "execution_count": 27,
   "metadata": {},
   "outputs": [],
   "source": [
    "class CrankNicolson:\n",
    "    \n",
    "    def set_grid(self, x_min, x_max, n_x, t_min, t_max, n_t):\n",
    "\n",
    "        self.x_min, self.x_max, self.n_x = x_min, x_max, n_x\n",
    "        self.t_min, self.t_max, self.n_t = t_min, t_max, n_t\n",
    "        self.x_pts, self.delta_x = np.linspace(x_min, x_max, n_x, retstep=True, endpoint=False)\n",
    "        self.t_pts, self.delta_t = np.linspace(t_min, t_max, n_t, retstep=True, endpoint=False)\n",
    "        \n",
    "    def set_parameter(self,f):\n",
    "        \n",
    "        self.f = f\n",
    "    \n",
    "    def _make_tridiag(self, sig, n, data_type):\n",
    "        \n",
    "        M = np.diagflat(np.full(n, (1+2*sig), dtype=data_type)) +\\\n",
    "            np.diagflat(np.full(n-1, (-sig), dtype=data_type), 1) +\\\n",
    "            np.diagflat(np.full(n-1, (-sig), dtype=data_type), -1)\n",
    "        \n",
    "        return M\n",
    "    \n",
    "    def solve(self, psi_init):\n",
    "        \n",
    "        sig = (1j*self.delta_t)/(4*(self.delta_x)**2)\n",
    "        data_type = type(psi_init[0]*sig)\n",
    "        \n",
    "        self.psi_matrix = np.zeros([self.n_t, self.n_x],dtype=data_type)\n",
    "        \n",
    "        A = self._make_tridiag(self,sig, self.n_x,data_type)\n",
    "        B = self._make_tridiag(self, -sig, self.n_x, data_type)\n",
    "        \n",
    "        for i in [0,1]:\n",
    "            A[1,-i] = 1.0\n",
    "            A[2*i,1-3*i] = 0.0\n",
    "            B[-i,-i] = 0.0\n",
    "            B[-i,1-3*i] = 0.0\n",
    "        \n",
    "        psi = psi_init\n",
    "        \n",
    "        for k in range(self.n_t):\n",
    "            self.psi_matrix[k,:] = psi\n",
    "            fpsi = self.f(psi)\n",
    "            if n==0: fpsi_old = fpsi\n",
    "            psi = la.solve(A, B.dot(psi) - 1j* self.delta_t * (1.5 * fpsi - 0.5 * fpsi_old))\n",
    "            fpsi_old = fpsi\n",
    "        \n",
    "    def get_final_psi(self):\n",
    "        return self.psi_matrix[-1,:].copy()\n",
    "    \n",
    "           \n",
    "\n",
    "        "
   ]
  },
  {
   "cell_type": "code",
   "execution_count": 24,
   "metadata": {},
   "outputs": [
    {
     "ename": "NameError",
     "evalue": "name 'np' is not defined",
     "output_type": "error",
     "traceback": [
      "\u001b[0;31m---------------------------------------------------------------------------\u001b[0m",
      "\u001b[0;31mNameError\u001b[0m                                 Traceback (most recent call last)",
      "Cell \u001b[0;32mIn[24], line 8\u001b[0m\n\u001b[1;32m      5\u001b[0m t_min, t_max, nt \u001b[38;5;241m=\u001b[39m \u001b[38;5;241m0\u001b[39m, \u001b[38;5;241m200.\u001b[39m, \u001b[38;5;241m1000\u001b[39m\n\u001b[1;32m      7\u001b[0m crank \u001b[38;5;241m=\u001b[39m CrankNicolson()\n\u001b[0;32m----> 8\u001b[0m param_field \u001b[38;5;241m=\u001b[39m pars_YanPengPhysRevA_78_033821()[\u001b[38;5;241m0\u001b[39m]\n\u001b[1;32m      9\u001b[0m crank\u001b[38;5;241m.\u001b[39mset_grid(x_min, x_max, nx, t_min, t_max, nt)\n",
      "File \u001b[0;32m~/Documents/X/Cours/3A/P1/PHY51171 - Numerical Physics/Quantum optics/HHG/Parameters.py:2\u001b[0m, in \u001b[0;36mpars_YanPengPhysRevA_78_033821\u001b[0;34m()\u001b[0m\n\u001b[1;32m      1\u001b[0m \u001b[38;5;28;01mdef\u001b[39;00m \u001b[38;5;21mpars_YanPengPhysRevA_78_033821\u001b[39m():\n\u001b[0;32m----> 2\u001b[0m     \u001b[38;5;28;01mreturn\u001b[39;00m np\u001b[38;5;241m.\u001b[39marray([\n\u001b[1;32m      3\u001b[0m         [ \n\u001b[1;32m      4\u001b[0m             \u001b[38;5;241m206.8\u001b[39m, \u001b[38;5;66;03m# Durations, a. u.\u001b[39;00m\n\u001b[1;32m      5\u001b[0m             \u001b[38;5;241m0.00997\u001b[39m, \u001b[38;5;66;03m# Amplitudes, a. u. \u001b[39;00m\n\u001b[1;32m      6\u001b[0m             \u001b[38;5;241m0.057\u001b[39m, \u001b[38;5;66;03m# Frequencies, a. u.\u001b[39;00m\n\u001b[1;32m      7\u001b[0m             \u001b[38;5;241m0\u001b[39m \u001b[38;5;66;03m# Phases\u001b[39;00m\n\u001b[1;32m      8\u001b[0m         ],\n\u001b[1;32m      9\u001b[0m \n\u001b[1;32m     10\u001b[0m         [\n\u001b[1;32m     11\u001b[0m             [\u001b[38;5;241m206.8\u001b[39m, \u001b[38;5;241m206.8\u001b[39m, \u001b[38;5;241m206.8\u001b[39m], \u001b[38;5;66;03m# Durations, a. u. \u001b[39;00m\n\u001b[1;32m     12\u001b[0m             [\u001b[38;5;241m0.00855\u001b[39m, \u001b[38;5;241m0.00285\u001b[39m, \u001b[38;5;241m0.00570\u001b[39m], \u001b[38;5;66;03m# Amplitudes, a. u.\u001b[39;00m\n\u001b[1;32m     13\u001b[0m             [\u001b[38;5;241m0.057\u001b[39m, \u001b[38;5;241m0.114\u001b[39m, \u001b[38;5;241m0.171\u001b[39m], \u001b[38;5;66;03m# Frequencies, a. u.\u001b[39;00m\n\u001b[1;32m     14\u001b[0m             [\u001b[38;5;241m0\u001b[39m, \u001b[38;5;241m0\u001b[39m, \u001b[38;5;241m0\u001b[39m] \u001b[38;5;66;03m# Phases, rad\u001b[39;00m\n\u001b[1;32m     15\u001b[0m         ],\n\u001b[1;32m     16\u001b[0m \n\u001b[1;32m     17\u001b[0m         [\n\u001b[1;32m     18\u001b[0m             [\u001b[38;5;241m206.8\u001b[39m, \u001b[38;5;241m206.8\u001b[39m], \u001b[38;5;66;03m# Durations, a. u.\u001b[39;00m\n\u001b[1;32m     19\u001b[0m             [\u001b[38;5;241m0.00912\u001b[39m, \u001b[38;5;241m0.00313\u001b[39m], \u001b[38;5;66;03m# Amplitudes, a. u.\u001b[39;00m\n\u001b[1;32m     20\u001b[0m             [\u001b[38;5;241m0.057\u001b[39m, \u001b[38;5;241m0.114\u001b[39m], \u001b[38;5;66;03m# Frequencies, a. u.\u001b[39;00m\n\u001b[1;32m     21\u001b[0m             [\u001b[38;5;241m0\u001b[39m, \u001b[38;5;241m0\u001b[39m] \u001b[38;5;66;03m# Phases, rad\u001b[39;00m\n\u001b[1;32m     22\u001b[0m         ],\n\u001b[1;32m     23\u001b[0m \n\u001b[1;32m     24\u001b[0m         [\n\u001b[1;32m     25\u001b[0m             [\u001b[38;5;241m165.4\u001b[39m, \u001b[38;5;241m165.4\u001b[39m, \u001b[38;5;241m165.4\u001b[39m], \u001b[38;5;66;03m# Durations, a. u. \u001b[39;00m\n\u001b[1;32m     26\u001b[0m             [\u001b[38;5;241m0.00855\u001b[39m, \u001b[38;5;241m0.00285\u001b[39m, \u001b[38;5;241m0.00570\u001b[39m], \u001b[38;5;66;03m# Amplitudes, a. u.\u001b[39;00m\n\u001b[1;32m     27\u001b[0m             [\u001b[38;5;241m0.057\u001b[39m, \u001b[38;5;241m0.114\u001b[39m, \u001b[38;5;241m0.171\u001b[39m], \u001b[38;5;66;03m# Frequencies, a. u.\u001b[39;00m\n\u001b[1;32m     28\u001b[0m             [\u001b[38;5;241m0\u001b[39m, \u001b[38;5;241m0\u001b[39m, \u001b[38;5;241m0\u001b[39m] \u001b[38;5;66;03m# Phases, rad\u001b[39;00m\n\u001b[1;32m     29\u001b[0m         ],\n\u001b[1;32m     30\u001b[0m \n\u001b[1;32m     31\u001b[0m         [\n\u001b[1;32m     32\u001b[0m             [\u001b[38;5;241m206.8\u001b[39m, \u001b[38;5;241m413.6\u001b[39m, \u001b[38;5;241m413.6\u001b[39m], \u001b[38;5;66;03m# Durations, a. u. \u001b[39;00m\n\u001b[1;32m     33\u001b[0m             [\u001b[38;5;241m0.00285\u001b[39m, \u001b[38;5;241m0.01425\u001b[39m, \u001b[38;5;241m0.01425\u001b[39m], \u001b[38;5;66;03m# Amplitudes, a. u.\u001b[39;00m\n\u001b[1;32m     34\u001b[0m             [\u001b[38;5;241m0.057\u001b[39m, \u001b[38;5;241m0.114\u001b[39m, \u001b[38;5;241m0.171\u001b[39m], \u001b[38;5;66;03m# Frequencies, a. u.\u001b[39;00m\n\u001b[1;32m     35\u001b[0m             [\u001b[38;5;241m0\u001b[39m, \u001b[38;5;241m0\u001b[39m, \u001b[38;5;241m0\u001b[39m] \u001b[38;5;66;03m# Phases, rad\u001b[39;00m\n\u001b[1;32m     36\u001b[0m         ]\n\u001b[1;32m     37\u001b[0m     ])\n",
      "\u001b[0;31mNameError\u001b[0m: name 'np' is not defined"
     ]
    }
   ],
   "source": [
    "## Test pour un simple Pulse\n",
    "\n",
    "# Those will not change\n",
    "x_min, x_max, nx = 0, 100., 600\n",
    "t_min, t_max, nt = 0, 200., 1000\n",
    "\n",
    "crank = CrankNicolson()\n",
    "param_field = pars_YanPengPhysRevA_78_033821()[0]\n",
    "crank.set_grid(x_min, x_max, nx, t_min, t_max, nt)\n",
    "\n"
   ]
  },
  {
   "cell_type": "code",
   "execution_count": null,
   "metadata": {},
   "outputs": [],
   "source": []
  }
 ],
 "metadata": {
  "kernelspec": {
   "display_name": "base",
   "language": "python",
   "name": "python3"
  },
  "language_info": {
   "codemirror_mode": {
    "name": "ipython",
    "version": 3
   },
   "file_extension": ".py",
   "mimetype": "text/x-python",
   "name": "python",
   "nbconvert_exporter": "python",
   "pygments_lexer": "ipython3",
   "version": "3.11.5"
  }
 },
 "nbformat": 4,
 "nbformat_minor": 2
}
