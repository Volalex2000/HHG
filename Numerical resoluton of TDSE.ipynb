{
 "cells": [
  {
   "cell_type": "code",
   "execution_count": 5,
   "metadata": {},
   "outputs": [],
   "source": [
    "#Import des biblothèques utiles\n",
    "\n",
    "%matplotlib inline\n",
    "import numpy as np\n",
    "import matplotlib.pyplot as plt\n",
    "import scipy.sparse\n",
    "import scipy.linalg as la\n",
    "from time import process_time"
   ]
  },
  {
   "cell_type": "markdown",
   "metadata": {},
   "source": [
    "## Présentation de la méthode des éléments finis pour TDSE\n",
    "\n",
    "\n",
    "We will apply the Crank-Nicolson (CN) scheme to integrate numerically Eq. 1 in one space dimension with Neumann boundary conditions.\n",
    "\n",
    "$$i \\frac{\\partial \\psi}{\\partial t} = -\\frac{1}{2} \\frac{\\partial^2 \\psi}{\\partial x^2} + V(x) \\psi - x E(t) \\psi, \\qquad (Eq. 1)$$\n",
    "\n",
    "\n",
    "\n",
    "# Finite Difference Methods\n",
    "\n",
    "The above Schrödinger equation describes the time evolution of the variable $\\psi(x,t)$ in one space dimension.\n",
    "\n",
    "To approximate $\\psi(x,t)$ numerically, we discretize the coordinate system with a two-dimensional regular grid.\n",
    "\n",
    "Let us discretize both time and space:\n",
    "$$t_n = n \\Delta t, \\quad n = 0, \\dots, N - 1,$$\n",
    "$$x_j = j \\Delta x, \\quad j = 0, \\dots, J - 1,$$\n",
    "\n",
    "where $N$ and $J$ are the number of discrete time and space points, respectively, and $Δt$ and $Δx$ are the time and space steps:\n",
    "$$Δt = T / N, \\quad Δx = L / J,$$\n",
    "\n",
    "where $T$ is the final integration time.\n",
    "\n",
    "Our goal is to approximate the unknown analytic solution $\\psi(x,t)$ at discrete grid points, using the notation:\n",
    "$$\\Psi^n_j = \\psi(jΔx, nΔt) \\approx \\psi(jΔx, nΔt).$$\n",
    "\n",
    "# The Crank-Nicolson Stencil\n",
    "\n",
    "To approximate the time derivative at grid point $(j,n)$, we use:\n",
    "$$i \\left. \\frac{\\partial \\psi}{\\partial t} \\right|_{x = jΔx, t = nΔt} \\approx \\frac{\\Psi^{n+1}_j - \\Psi^n_j}{Δt}.$$\n",
    "\n",
    "The spatial part of the Crank-Nicolson stencil for the Schrödinger equation ($i \\psi_t = -\\frac{1}{2} \\psi_{xx} + V(x) \\psi - x E(t) \\psi$) approximates the Laplacian and potential operators as follows:\n",
    "$$-\\frac{1}{2} \\left. \\frac{\\partial^2 \\psi}{\\partial x^2} \\right|_{x = jΔx, t = nΔt} \\approx \\frac{-1}{4Δx^2} \\left( \\Psi^n_{j+1} - 2 \\Psi^n_j + \\Psi^n_{j-1} + \\Psi^{n+1}_{j+1} - 2 \\Psi^{n+1}_j + \\Psi^{n+1}_{j-1} \\right),$$\n",
    "$$V(x_j) \\psi(jΔx, nΔt) \\approx \\frac{V(x_j)}{2} (\\Psi^n_j + \\Psi^{n+1}_j),$$\n",
    "$$x_j E(nΔt) \\psi(jΔx, nΔt) \\approx \\frac{x_j E(nΔt)}{2} (\\Psi^n_j + \\Psi^{n+1}_j).$$\n",
    "\n",
    "Applying this stencil to the grid point $(j,n)$ gives:\n",
    "$$i\\frac{\\Psi^{n+1}_j - \\Psi^n_j}{Δt} = \\frac{-1}{4Δx^2} (\\Psi^n_{j+1} - 2 \\Psi^n_j + \\Psi^n_{j-1} + \\Psi^{n+1}_{j+1} - 2 \\Psi^{n+1}_j + \\Psi^{n+1}_{j-1}) + \\frac{V(x_j)}{2} (\\Psi^n_j + \\Psi^{n+1}_j) - \\frac{x_j E(nΔt)}{2} (\\Psi^n_j + \\Psi^{n+1}_j).$$\n",
    "\n"
   ]
  },
  {
   "cell_type": "markdown",
   "metadata": {},
   "source": []
  }
 ],
 "metadata": {
  "kernelspec": {
   "display_name": "base",
   "language": "python",
   "name": "python3"
  },
  "language_info": {
   "codemirror_mode": {
    "name": "ipython",
    "version": 3
   },
   "file_extension": ".py",
   "mimetype": "text/x-python",
   "name": "python",
   "nbconvert_exporter": "python",
   "pygments_lexer": "ipython3",
   "version": "3.11.5"
  }
 },
 "nbformat": 4,
 "nbformat_minor": 2
}
