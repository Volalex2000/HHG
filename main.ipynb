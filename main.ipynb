{
 "cells": [
  {
   "cell_type": "code",
   "execution_count": null,
   "metadata": {},
   "outputs": [],
   "source": [
    "from solver import psi\n",
    "\n",
    "# Number of time points\n",
    "n = 200000\n",
    "\n",
    "# Generate wavefunction, spatial grid (x), time grid (t), and potential (A)\n",
    "# psi function takes parameters: [x_min, x_max, t_min, t_max], number of experiments\n",
    "wavefunction, x, t, A = psi([-200, 4096, -400, n], n_of_exp=1)"
   ]
  },
  {
   "cell_type": "code",
   "execution_count": null,
   "metadata": {},
   "outputs": [],
   "source": [
    "import os\n",
    "import numpy as np\n",
    "\n",
    "# Specify the folder path\n",
    "folder_path = './results'\n",
    "\n",
    "# List to store loaded arrays\n",
    "numpy_arrays = []\n",
    "\n",
    "# Loop through files in the directory\n",
    "for file in os.listdir(folder_path):\n",
    "    if file.startswith('A') and file.endswith('.npy'):  # Check if file starts with 'A' and ends with '.npy'\n",
    "        file_path = os.path.join(folder_path, file)\n",
    "        try:\n",
    "            array = np.load(file_path)\n",
    "            numpy_arrays.append((file, array))  # Append tuple (filename, array)\n",
    "            print(f\"Loaded: {file}\")\n",
    "        except Exception as e:\n",
    "            print(f\"Error loading {file}: {e}\")\n",
    "\n",
    "# Display summary\n",
    "print(f\"\\nTotal files loaded: {len(numpy_arrays)}\")\n"
   ]
  },
  {
   "cell_type": "code",
   "execution_count": null,
   "metadata": {},
   "outputs": [],
   "source": [
    "import matplotlib.pyplot as plt\n",
    "from wavelet_visualization import *\n",
    "\n",
    "# Loop through each loaded numpy array\n",
    "for file, A in numpy_arrays:\n",
    "    # Print the filename and shape of the array\n",
    "    print(f\"{file}: {A.shape}\")\n",
    "    # Visualize the time-frequency characteristics of the array\n",
    "    imshow_time_frequency_characteristics(A)\n",
    "\n",
    "# Display all plots\n",
    "plt.show()\n"
   ]
  },
  {
   "cell_type": "code",
   "execution_count": null,
   "metadata": {},
   "outputs": [],
   "source": [
    "from parameters import pars_YanPengPhysRevA_78_033821\n",
    "\n",
    "# Retrieve parameters\n",
    "params = pars_YanPengPhysRevA_78_033821()[1]\n",
    "\n",
    "# Loop through each loaded numpy array\n",
    "for file, A in numpy_arrays:\n",
    "    # Print the filename and shape of the array\n",
    "    print(f\"{file}: {A.shape}\")\n",
    "    # Plot the high-harmonic spectrum using the array and parameters\n",
    "    plot_HH_spectrum(A.shape[1]//2, A, params)\n",
    "\n",
    "# Display all plots\n",
    "plt.show()\n"
   ]
  }
 ],
 "metadata": {
  "kernelspec": {
   "display_name": "Python 3",
   "language": "python",
   "name": "python3"
  },
  "language_info": {
   "codemirror_mode": {
    "name": "ipython",
    "version": 3
   },
   "file_extension": ".py",
   "mimetype": "text/x-python",
   "name": "python",
   "nbconvert_exporter": "python",
   "pygments_lexer": "ipython3",
   "version": "3.11.5"
  }
 },
 "nbformat": 4,
 "nbformat_minor": 2
}
